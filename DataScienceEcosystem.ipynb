{
 "cells": [
  {
   "cell_type": "markdown",
   "id": "18a31206-9ab7-47a3-b85e-6009fa8cfe7e",
   "metadata": {},
   "source": [
    "# Data Science Tools and Ecosystem\n"
   ]
  },
  {
   "cell_type": "markdown",
   "id": "36c48293-0d92-457d-95e0-c08be381ef7f",
   "metadata": {},
   "source": [
    "### In this notebook, Data Science Tools and Ecosystem are summarized."
   ]
  },
  {
   "cell_type": "markdown",
   "id": "95750a78-efb3-4170-9006-67e3952a24a4",
   "metadata": {},
   "source": [
    "#### Objectives\n",
    "\n",
    "- List popular Data science languages\n",
    "- List commonly used libraries used by Data Scientists\n",
    "- Evaulate arithmetic expressions using this notebook."
   ]
  },
  {
   "cell_type": "markdown",
   "id": "0fe3a384-d30d-45fe-a4dd-624d1c01ba1e",
   "metadata": {
    "tags": []
   },
   "source": [
    "Some of the popular languages that Data Scientists use are:\n",
    "\n",
    "1. Python\n",
    "2. R\n",
    "3. SQL\n",
    "4. Julia\n"
   ]
  },
  {
   "cell_type": "markdown",
   "id": "322e0b87-9798-4eea-a165-ebc1b43d9e48",
   "metadata": {},
   "source": [
    "The commonly used libraries used by Data Scientists include:\n",
    "\n",
    "1. Pandas\n",
    "2. NumPy \n",
    "3. Matplotlib\n",
    "4. TensorFlow \n",
    "5. Scikit-learn \n"
   ]
  },
  {
   "cell_type": "markdown",
   "id": "3e6a12c9-358f-4d51-8197-4675b40b71a6",
   "metadata": {},
   "source": [
    "| Data Science Tools   |\n",
    "|:---------------------|\n",
    "| Jupyter Notebook     |\n",
    "| RStudio              |\n",
    "| VS Code              |\n"
   ]
  },
  {
   "cell_type": "markdown",
   "id": "d0e32eed-f33d-4d66-b332-77072ddbb198",
   "metadata": {
    "tags": []
   },
   "source": [
    "### Below are a few examples of evaluating arithmetic expressions in Python.\n"
   ]
  },
  {
   "cell_type": "code",
   "execution_count": 4,
   "id": "ce31b562-cdb9-45bf-badd-44c207c44c1f",
   "metadata": {
    "tags": []
   },
   "outputs": [
    {
     "data": {
      "text/plain": [
       "17"
      ]
     },
     "execution_count": 4,
     "metadata": {},
     "output_type": "execute_result"
    }
   ],
   "source": [
    "# This a simple arithmetic expression to multiply then add integers.\n",
    "(3*4)+5\n"
   ]
  },
  {
   "cell_type": "code",
   "execution_count": 5,
   "id": "345990b5-194a-4c94-bdb7-012ce574efe9",
   "metadata": {
    "tags": []
   },
   "outputs": [
    {
     "data": {
      "text/plain": [
       "3.3333333333333335"
      ]
     },
     "execution_count": 5,
     "metadata": {},
     "output_type": "execute_result"
    }
   ],
   "source": [
    "# This will convert 200 minutes to hours by dividing by 60.\n",
    "200 / 60\n"
   ]
  },
  {
   "cell_type": "markdown",
   "id": "cfc1aee8-5ee1-4f7f-96b5-ccbeb68b8ecb",
   "metadata": {},
   "source": [
    "## Author\n",
    "\n",
    "Justin M Tapia"
   ]
  },
  {
   "cell_type": "code",
   "execution_count": null,
   "id": "5dcf46f6-8541-4367-94d5-8df3559b0d7b",
   "metadata": {},
   "outputs": [],
   "source": []
  }
 ],
 "metadata": {
  "kernelspec": {
   "display_name": "Python",
   "language": "python",
   "name": "conda-env-python-py"
  },
  "language_info": {
   "codemirror_mode": {
    "name": "ipython",
    "version": 3
   },
   "file_extension": ".py",
   "mimetype": "text/x-python",
   "name": "python",
   "nbconvert_exporter": "python",
   "pygments_lexer": "ipython3",
   "version": "3.7.12"
  }
 },
 "nbformat": 4,
 "nbformat_minor": 5
}
